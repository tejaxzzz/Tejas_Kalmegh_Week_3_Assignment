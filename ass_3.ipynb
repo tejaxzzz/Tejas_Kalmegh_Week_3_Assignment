{
 "cells": [
  {
   "cell_type": "code",
   "execution_count": 1,
   "id": "cc128613",
   "metadata": {},
   "outputs": [
    {
     "name": "stdout",
     "output_type": "stream",
     "text": [
      "[11, 13, 17, 19]\n"
     ]
    }
   ],
   "source": [
    "def is_prime(num):\n",
    "    #to check if a number is prime\n",
    "    if num <= 1:\n",
    "        return False\n",
    "    for i in range(2, int(num ** 0.5) + 1):\n",
    "        if num % i == 0:\n",
    "            return False\n",
    "    return True\n",
    "\n",
    "def find_primes_in_range(start, end):\n",
    "    #now find prime no in given range\n",
    "    return [num for num in range(start, end + 1) if is_prime(num)]\n",
    "\n",
    "# Example usage\n",
    "start_range = 10\n",
    "end_range = 20\n",
    "print(find_primes_in_range(start_range, end_range))"
   ]
  },
  {
   "cell_type": "code",
   "execution_count": 3,
   "id": "4aa7d1b1",
   "metadata": {},
   "outputs": [
    {
     "name": "stdout",
     "output_type": "stream",
     "text": [
      "Factorial of 2 is: 2\n",
      "GCD of 48 and 18 is: 6\n"
     ]
    }
   ],
   "source": [
    "def factorial(n):\n",
    "    result = 1\n",
    "    for i in range(1, n + 1):\n",
    "        result *= i\n",
    "    return result\n",
    "\n",
    "def gcd(a, b):\n",
    "    #returning the greatest common divisor of a nd b.\n",
    "    while b:\n",
    "        a, b = b, a % b\n",
    "    return a\n",
    "\n",
    "#for examle\n",
    "num1 = 2\n",
    "num2 = 48\n",
    "num3 = 18\n",
    "\n",
    "print(f\"Factorial of {num1} is: {factorial(num1)}\")\n",
    "print(f\"GCD of {num2} and {num3} is: {gcd(num2, num3)}\")\n"
   ]
  },
  {
   "cell_type": "code",
   "execution_count": 6,
   "id": "5355f1e8",
   "metadata": {},
   "outputs": [
    {
     "name": "stdout",
     "output_type": "stream",
     "text": [
      "Enter the number of Fibonacci terms: 5\n",
      "Fibonacci (iterative): [0, 1, 1, 2, 3]\n",
      "Fibonacci (recursive): [0, 1, 1, 2, 3]\n"
     ]
    }
   ],
   "source": [
    "# iterative approach\n",
    "def fibonacci_iterative(n):\n",
    "    if n <= 0:\n",
    "        return []\n",
    "    elif n == 1:\n",
    "        return [0]\n",
    "    \n",
    "    sequence = [0, 1]\n",
    "    for _ in range(2, n):\n",
    "        sequence.append(sequence[-1] + sequence[-2])\n",
    "    return sequence\n",
    "\n",
    "# recursive approach\n",
    "def fibonacci_recursive(n):\n",
    "    if n <= 0:\n",
    "        return []\n",
    "    elif n == 1:\n",
    "        return [0]\n",
    "    elif n == 2:\n",
    "        return [0, 1]\n",
    "    \n",
    "    def recurse(k):\n",
    "        if k == 2:\n",
    "            return [0, 1]\n",
    "        seq = recurse(k - 1)\n",
    "        seq.append(seq[-1] + seq[-2])\n",
    "        return seq\n",
    "    \n",
    "    return recurse(n)\n",
    "\n",
    "# the main function\n",
    "def main():\n",
    "    n = int(input(\"Entr the no of Fibonacci terms: \"))\n",
    "    print(\"Fibonacci (iterative):\", fibonacci_iterative(n))\n",
    "    print(\"Fibonacci (recursive):\", fibonacci_recursive(n))\n",
    "\n",
    "if __name__ == \"__main__\":\n",
    "    main()\n"
   ]
  },
  {
   "cell_type": "code",
   "execution_count": null,
   "id": "52246fb6",
   "metadata": {},
   "outputs": [],
   "source": []
  }
 ],
 "metadata": {
  "kernelspec": {
   "display_name": "Python 3 (ipykernel)",
   "language": "python",
   "name": "python3"
  },
  "language_info": {
   "codemirror_mode": {
    "name": "ipython",
    "version": 3
   },
   "file_extension": ".py",
   "mimetype": "text/x-python",
   "name": "python",
   "nbconvert_exporter": "python",
   "pygments_lexer": "ipython3",
   "version": "3.10.9"
  }
 },
 "nbformat": 4,
 "nbformat_minor": 5
}
